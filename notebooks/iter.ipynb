{
 "cells": [
  {
   "cell_type": "code",
   "execution_count": 2,
   "metadata": {},
   "outputs": [],
   "source": [
    "import string\n",
    "from pprint import pprint"
   ]
  },
  {
   "cell_type": "code",
   "execution_count": 3,
   "metadata": {},
   "outputs": [
    {
     "output_type": "stream",
     "name": "stderr",
     "text": "2020-04-26 15:06:02,968 : WARNING \t: Error importing loguru, using standard library logging.\n'OutStream' object has no attribute 'reconfigure'\n"
    }
   ],
   "source": [
    "from bripy.bllb.iter import *"
   ]
  },
  {
   "cell_type": "code",
   "execution_count": 7,
   "metadata": {},
   "outputs": [
    {
     "output_type": "stream",
     "name": "stdout",
     "text": "{0: 'a', 1: 'b', 2: 'c', 3: 'd', 4: 'e', 5: 'f', 6: 'g', 7: 'h', 8: 'i', 9: 'j'}\n{0: 'a', 1: 'b', 2: 'c', 3: 'd', 4: 'e', 5: 'f', 6: 'g', 7: 'h', 8: 'i', 9: 'j'}\n"
    },
    {
     "output_type": "execute_result",
     "data": {
      "text/plain": "{0: 'a',\n 1: 'b',\n 2: 'c',\n 3: 'd',\n 4: 'e',\n 5: 'f',\n 6: 'g',\n 7: 'h',\n 8: 'i',\n 9: 'j'}"
     },
     "metadata": {},
     "execution_count": 7
    }
   ],
   "source": [
    "alpha = dict(enumerate(list(string.ascii_lowercase[:10])))\n",
    "print(alpha)\n",
    "pprint(alpha)\n",
    "alpha"
   ]
  },
  {
   "cell_type": "code",
   "execution_count": 4,
   "metadata": {},
   "outputs": [
    {
     "output_type": "stream",
     "name": "stdout",
     "text": "[[], ['0'], ['1', '0'], ['2', '1', '0'], ['3', '2', '1', '0'], ['4', '3', '2', '1', '0'], ['5', '4', '3', '2', '1', '0'], ['6', '5', '4', '3', '2', '1', '0'], ['7', '6', '5', '4', '3', '2', '1', '0'], ['8', '7', '6', '5', '4', '3', '2', '1', '0']]\n[[],\n ['0'],\n ['1', '0'],\n ['2', '1', '0'],\n ['3', '2', '1', '0'],\n ['4', '3', '2', '1', '0'],\n ['5', '4', '3', '2', '1', '0'],\n ['6', '5', '4', '3', '2', '1', '0'],\n ['7', '6', '5', '4', '3', '2', '1', '0'],\n ['8', '7', '6', '5', '4', '3', '2', '1', '0']]\n"
    },
    {
     "output_type": "execute_result",
     "data": {
      "text/plain": "[[],\n ['0'],\n ['1', '0'],\n ['2', '1', '0'],\n ['3', '2', '1', '0'],\n ['4', '3', '2', '1', '0'],\n ['5', '4', '3', '2', '1', '0'],\n ['6', '5', '4', '3', '2', '1', '0'],\n ['7', '6', '5', '4', '3', '2', '1', '0'],\n ['8', '7', '6', '5', '4', '3', '2', '1', '0']]"
     },
     "metadata": {},
     "execution_count": 4
    }
   ],
   "source": [
    "RANGES = [[*map(str, range(i))][::-1] for i in range(10)]\n",
    "print(RANGES)\n",
    "pprint(RANGES)\n",
    "RANGES"
   ]
  },
  {
   "cell_type": "code",
   "execution_count": 5,
   "metadata": {},
   "outputs": [
    {
     "output_type": "execute_result",
     "data": {
      "text/plain": "['0',\n '1',\n '0',\n '2',\n '1',\n '0',\n '3',\n '2',\n '1',\n '0',\n '4',\n '3',\n '2',\n '1',\n '0',\n '5',\n '4',\n '3',\n '2',\n '1',\n '0',\n '6',\n '5',\n '4',\n '3',\n '2',\n '1',\n '0',\n '7',\n '6',\n '5',\n '4',\n '3',\n '2',\n '1',\n '0',\n '8',\n '7',\n '6',\n '5',\n '4',\n '3',\n '2',\n '1',\n '0']"
     },
     "metadata": {},
     "execution_count": 5
    }
   ],
   "source": [
    "flatten([RANGES])"
   ]
  },
  {
   "cell_type": "code",
   "execution_count": 6,
   "metadata": {},
   "outputs": [
    {
     "output_type": "stream",
     "name": "stdout",
     "text": "type: <class 'list'>\nlen: 10\n\n[[],\n ['0'],\n ['1', '0'],\n ['2', '1', '0'],\n ['3', '2', '1', '0'],\n ['4', '3', '2', '1', '0'],\n ['5', '4', '3', '2', '1', '0'],\n ['6', '5', '4', '3', '2', '1', '0'],\n ['7', '6', '5', '4', '3', '2', '1', '0'],\n ['8', '7', '6', '5', '4', '3', '2', '1', '0']]\n"
    }
   ],
   "source": [
    "ppiter(RANGES)"
   ]
  },
  {
   "cell_type": "code",
   "execution_count": null,
   "metadata": {},
   "outputs": [],
   "source": []
  }
 ],
 "metadata": {
  "language_info": {
   "codemirror_mode": {
    "name": "ipython",
    "version": 3
   },
   "file_extension": ".py",
   "mimetype": "text/x-python",
   "name": "python",
   "nbconvert_exporter": "python",
   "pygments_lexer": "ipython3",
   "version": "3.7.7-final"
  },
  "orig_nbformat": 2,
  "kernelspec": {
   "name": "python37764bitbasecondaf93a8012ad50407f8a593d536c8c312f",
   "display_name": "Python 3.7.7 64-bit ('base': conda)"
  }
 },
 "nbformat": 4,
 "nbformat_minor": 2
}
