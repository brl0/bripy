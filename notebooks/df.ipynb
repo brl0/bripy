{
 "cells": [
  {
   "cell_type": "code",
   "execution_count": 3,
   "metadata": {},
   "outputs": [],
   "source": [
    "import pandas as pd\n",
    "from pandas import util"
   ]
  },
  {
   "cell_type": "code",
   "execution_count": 2,
   "metadata": {},
   "outputs": [],
   "source": [
    "from bripy.bllb.df import pdhtml, pdinfo"
   ]
  },
  {
   "cell_type": "code",
   "execution_count": null,
   "metadata": {},
   "outputs": [],
   "source": []
  },
  {
   "cell_type": "code",
   "execution_count": 4,
   "metadata": {},
   "outputs": [],
   "source": [
    "df = util.testing.makeDataFrame()"
   ]
  },
  {
   "cell_type": "code",
   "execution_count": 5,
   "metadata": {},
   "outputs": [
    {
     "output_type": "execute_result",
     "data": {
      "text/plain": "                   A         B         C         D\ncRz78DZt9G  0.700254  0.234203 -0.010475  0.572901\nPoY00fKz2W -0.637172 -0.419172 -0.565414 -0.608418\nO6JK4KtkC9  0.347287  0.071929 -1.334973 -0.015654\n02FHvyCC2t -0.205411 -0.119238 -1.664420  0.891674\nWlWxc7OEbp  0.759118  0.102633 -0.049516 -0.134991\nxrykSUGuP7  1.393191 -1.134895 -0.141500  1.377718\n3743A8Vhsr -0.285207 -0.167048 -0.303716 -0.000139\nxbYVLx37O8  1.184318  0.179380 -0.987556  0.784551\nrUFAgLFm8u  0.707699  0.085668 -2.012444 -0.397326\nSYkmdkrRND  0.298348 -0.468751 -0.314174 -1.793779\nxHyEQQBfGw  0.949268 -0.701480  0.663520  0.707548\n8eAUCNyMC3  1.561141  0.884683 -0.106551 -1.816316\n4hzByjF8W7  0.864482  0.653597 -0.035555  0.680668\nkMNY9JJdtv  1.248894  0.364659  1.001731  1.537395\nksBr3fCANW -0.446246  0.067959  1.266820 -0.414851\n4AWoW617dp  0.558034 -0.278884  0.275688 -0.379952\nPxsJJVnW8R  1.796499  0.502122 -0.749807  0.292431\nXMnHp0ijZV  0.851873  0.484115 -0.498186 -0.198093\ntpBKdDUlOb  1.472786  0.217829  2.053169 -1.571045\n18NMP7b1p3  0.677849 -1.686291  0.453497  0.036778\nNIYgiyMjH5 -0.335731  0.994487 -0.434962  1.226906\nahXv4baXMX -0.242726  0.110268  2.043709  0.344045\nmo2l7cMIy9  0.239135  0.277924 -2.090216 -1.314794\nK3XV0NykMV  1.221020 -0.936753  0.611056  0.532351\n5oqdthNGQN -0.725448 -0.152357 -0.799398  0.667229\nqtheke0b8u -1.126257 -0.064981  0.872054 -0.125447\n6sUaRL3Ete -1.553730  1.046694  0.886025 -1.879283\nQ6Shh2ii2k -0.296543 -0.981078 -0.867044 -0.867188\nKBHMdAEUjM  0.687269  0.427602 -1.111547  0.494247\nmlGXR0WYIc -0.418315 -0.053466 -0.591328  0.370162",
      "text/html": "<div>\n<style scoped>\n    .dataframe tbody tr th:only-of-type {\n        vertical-align: middle;\n    }\n\n    .dataframe tbody tr th {\n        vertical-align: top;\n    }\n\n    .dataframe thead th {\n        text-align: right;\n    }\n</style>\n<table border=\"1\" class=\"dataframe\">\n  <thead>\n    <tr style=\"text-align: right;\">\n      <th></th>\n      <th>A</th>\n      <th>B</th>\n      <th>C</th>\n      <th>D</th>\n    </tr>\n  </thead>\n  <tbody>\n    <tr>\n      <th>cRz78DZt9G</th>\n      <td>0.700254</td>\n      <td>0.234203</td>\n      <td>-0.010475</td>\n      <td>0.572901</td>\n    </tr>\n    <tr>\n      <th>PoY00fKz2W</th>\n      <td>-0.637172</td>\n      <td>-0.419172</td>\n      <td>-0.565414</td>\n      <td>-0.608418</td>\n    </tr>\n    <tr>\n      <th>O6JK4KtkC9</th>\n      <td>0.347287</td>\n      <td>0.071929</td>\n      <td>-1.334973</td>\n      <td>-0.015654</td>\n    </tr>\n    <tr>\n      <th>02FHvyCC2t</th>\n      <td>-0.205411</td>\n      <td>-0.119238</td>\n      <td>-1.664420</td>\n      <td>0.891674</td>\n    </tr>\n    <tr>\n      <th>WlWxc7OEbp</th>\n      <td>0.759118</td>\n      <td>0.102633</td>\n      <td>-0.049516</td>\n      <td>-0.134991</td>\n    </tr>\n    <tr>\n      <th>xrykSUGuP7</th>\n      <td>1.393191</td>\n      <td>-1.134895</td>\n      <td>-0.141500</td>\n      <td>1.377718</td>\n    </tr>\n    <tr>\n      <th>3743A8Vhsr</th>\n      <td>-0.285207</td>\n      <td>-0.167048</td>\n      <td>-0.303716</td>\n      <td>-0.000139</td>\n    </tr>\n    <tr>\n      <th>xbYVLx37O8</th>\n      <td>1.184318</td>\n      <td>0.179380</td>\n      <td>-0.987556</td>\n      <td>0.784551</td>\n    </tr>\n    <tr>\n      <th>rUFAgLFm8u</th>\n      <td>0.707699</td>\n      <td>0.085668</td>\n      <td>-2.012444</td>\n      <td>-0.397326</td>\n    </tr>\n    <tr>\n      <th>SYkmdkrRND</th>\n      <td>0.298348</td>\n      <td>-0.468751</td>\n      <td>-0.314174</td>\n      <td>-1.793779</td>\n    </tr>\n    <tr>\n      <th>xHyEQQBfGw</th>\n      <td>0.949268</td>\n      <td>-0.701480</td>\n      <td>0.663520</td>\n      <td>0.707548</td>\n    </tr>\n    <tr>\n      <th>8eAUCNyMC3</th>\n      <td>1.561141</td>\n      <td>0.884683</td>\n      <td>-0.106551</td>\n      <td>-1.816316</td>\n    </tr>\n    <tr>\n      <th>4hzByjF8W7</th>\n      <td>0.864482</td>\n      <td>0.653597</td>\n      <td>-0.035555</td>\n      <td>0.680668</td>\n    </tr>\n    <tr>\n      <th>kMNY9JJdtv</th>\n      <td>1.248894</td>\n      <td>0.364659</td>\n      <td>1.001731</td>\n      <td>1.537395</td>\n    </tr>\n    <tr>\n      <th>ksBr3fCANW</th>\n      <td>-0.446246</td>\n      <td>0.067959</td>\n      <td>1.266820</td>\n      <td>-0.414851</td>\n    </tr>\n    <tr>\n      <th>4AWoW617dp</th>\n      <td>0.558034</td>\n      <td>-0.278884</td>\n      <td>0.275688</td>\n      <td>-0.379952</td>\n    </tr>\n    <tr>\n      <th>PxsJJVnW8R</th>\n      <td>1.796499</td>\n      <td>0.502122</td>\n      <td>-0.749807</td>\n      <td>0.292431</td>\n    </tr>\n    <tr>\n      <th>XMnHp0ijZV</th>\n      <td>0.851873</td>\n      <td>0.484115</td>\n      <td>-0.498186</td>\n      <td>-0.198093</td>\n    </tr>\n    <tr>\n      <th>tpBKdDUlOb</th>\n      <td>1.472786</td>\n      <td>0.217829</td>\n      <td>2.053169</td>\n      <td>-1.571045</td>\n    </tr>\n    <tr>\n      <th>18NMP7b1p3</th>\n      <td>0.677849</td>\n      <td>-1.686291</td>\n      <td>0.453497</td>\n      <td>0.036778</td>\n    </tr>\n    <tr>\n      <th>NIYgiyMjH5</th>\n      <td>-0.335731</td>\n      <td>0.994487</td>\n      <td>-0.434962</td>\n      <td>1.226906</td>\n    </tr>\n    <tr>\n      <th>ahXv4baXMX</th>\n      <td>-0.242726</td>\n      <td>0.110268</td>\n      <td>2.043709</td>\n      <td>0.344045</td>\n    </tr>\n    <tr>\n      <th>mo2l7cMIy9</th>\n      <td>0.239135</td>\n      <td>0.277924</td>\n      <td>-2.090216</td>\n      <td>-1.314794</td>\n    </tr>\n    <tr>\n      <th>K3XV0NykMV</th>\n      <td>1.221020</td>\n      <td>-0.936753</td>\n      <td>0.611056</td>\n      <td>0.532351</td>\n    </tr>\n    <tr>\n      <th>5oqdthNGQN</th>\n      <td>-0.725448</td>\n      <td>-0.152357</td>\n      <td>-0.799398</td>\n      <td>0.667229</td>\n    </tr>\n    <tr>\n      <th>qtheke0b8u</th>\n      <td>-1.126257</td>\n      <td>-0.064981</td>\n      <td>0.872054</td>\n      <td>-0.125447</td>\n    </tr>\n    <tr>\n      <th>6sUaRL3Ete</th>\n      <td>-1.553730</td>\n      <td>1.046694</td>\n      <td>0.886025</td>\n      <td>-1.879283</td>\n    </tr>\n    <tr>\n      <th>Q6Shh2ii2k</th>\n      <td>-0.296543</td>\n      <td>-0.981078</td>\n      <td>-0.867044</td>\n      <td>-0.867188</td>\n    </tr>\n    <tr>\n      <th>KBHMdAEUjM</th>\n      <td>0.687269</td>\n      <td>0.427602</td>\n      <td>-1.111547</td>\n      <td>0.494247</td>\n    </tr>\n    <tr>\n      <th>mlGXR0WYIc</th>\n      <td>-0.418315</td>\n      <td>-0.053466</td>\n      <td>-0.591328</td>\n      <td>0.370162</td>\n    </tr>\n  </tbody>\n</table>\n</div>"
     },
     "metadata": {},
     "execution_count": 5
    }
   ],
   "source": [
    "df"
   ]
  },
  {
   "cell_type": "code",
   "execution_count": 6,
   "metadata": {},
   "outputs": [
    {
     "output_type": "stream",
     "name": "stdout",
     "text": "<class 'pandas.core.frame.DataFrame'>\nIndex: 30 entries, cRz78DZt9G to mlGXR0WYIc\nData columns (total 4 columns):\n #   Column  Non-Null Count  Dtype  \n---  ------  --------------  -----  \n 0   A       30 non-null     float64\n 1   B       30 non-null     float64\n 2   C       30 non-null     float64\n 3   D       30 non-null     float64\ndtypes: float64(4)\nmemory usage: 2.9 KB\n\n"
    },
    {
     "output_type": "display_data",
     "data": {
      "text/plain": "<IPython.core.display.HTML object>",
      "text/html": "<div>\n<style scoped>\n    .dataframe tbody tr th:only-of-type {\n        vertical-align: middle;\n    }\n\n    .dataframe tbody tr th {\n        vertical-align: top;\n    }\n\n    .dataframe thead th {\n        text-align: right;\n    }\n</style>\n<table border=\"1\" class=\"dataframe\" id=\"table_0_desc\">\n  <thead>\n    <tr style=\"text-align: right;\">\n      <th></th>\n      <th>A</th>\n      <th>B</th>\n      <th>C</th>\n      <th>D</th>\n    </tr>\n  </thead>\n  <tbody>\n    <tr>\n      <th>count</th>\n      <td>30.000000</td>\n      <td>30.000000</td>\n      <td>30.000000</td>\n      <td>30.000000</td>\n    </tr>\n    <tr>\n      <th>mean</th>\n      <td>0.374856</td>\n      <td>-0.015288</td>\n      <td>-0.151384</td>\n      <td>-0.033356</td>\n    </tr>\n    <tr>\n      <th>std</th>\n      <td>0.847634</td>\n      <td>0.625618</td>\n      <td>1.040921</td>\n      <td>0.940775</td>\n    </tr>\n    <tr>\n      <th>min</th>\n      <td>-1.553730</td>\n      <td>-1.686291</td>\n      <td>-2.090216</td>\n      <td>-1.879283</td>\n    </tr>\n    <tr>\n      <th>25%</th>\n      <td>-0.293709</td>\n      <td>-0.250925</td>\n      <td>-0.787001</td>\n      <td>-0.410470</td>\n    </tr>\n    <tr>\n      <th>50%</th>\n      <td>0.617941</td>\n      <td>0.078799</td>\n      <td>-0.222608</td>\n      <td>0.018320</td>\n    </tr>\n    <tr>\n      <th>75%</th>\n      <td>0.928071</td>\n      <td>0.342975</td>\n      <td>0.571667</td>\n      <td>0.643647</td>\n    </tr>\n    <tr>\n      <th>max</th>\n      <td>1.796499</td>\n      <td>1.046694</td>\n      <td>2.053169</td>\n      <td>1.537395</td>\n    </tr>\n  </tbody>\n</table>\n</div>"
     },
     "metadata": {}
    },
    {
     "output_type": "display_data",
     "data": {
      "text/plain": "<IPython.core.display.HTML object>",
      "text/html": "<div>\n<style scoped>\n    .dataframe tbody tr th:only-of-type {\n        vertical-align: middle;\n    }\n\n    .dataframe tbody tr th {\n        vertical-align: top;\n    }\n\n    .dataframe thead th {\n        text-align: right;\n    }\n</style>\n<table border=\"1\" class=\"dataframe\" id=\"table_0\">\n  <thead>\n    <tr style=\"text-align: right;\">\n      <th></th>\n      <th>A</th>\n      <th>B</th>\n      <th>C</th>\n      <th>D</th>\n    </tr>\n  </thead>\n  <tbody>\n    <tr>\n      <th>cRz78DZt9G</th>\n      <td>0.700254</td>\n      <td>0.234203</td>\n      <td>-0.010475</td>\n      <td>0.572901</td>\n    </tr>\n    <tr>\n      <th>PoY00fKz2W</th>\n      <td>-0.637172</td>\n      <td>-0.419172</td>\n      <td>-0.565414</td>\n      <td>-0.608418</td>\n    </tr>\n    <tr>\n      <th>O6JK4KtkC9</th>\n      <td>0.347287</td>\n      <td>0.071929</td>\n      <td>-1.334973</td>\n      <td>-0.015654</td>\n    </tr>\n    <tr>\n      <th>xrykSUGuP7</th>\n      <td>1.393191</td>\n      <td>-1.134895</td>\n      <td>-0.141500</td>\n      <td>1.377718</td>\n    </tr>\n    <tr>\n      <th>02FHvyCC2t</th>\n      <td>-0.205411</td>\n      <td>-0.119238</td>\n      <td>-1.664420</td>\n      <td>0.891674</td>\n    </tr>\n    <tr>\n      <th>18NMP7b1p3</th>\n      <td>0.677849</td>\n      <td>-1.686291</td>\n      <td>0.453497</td>\n      <td>0.036778</td>\n    </tr>\n    <tr>\n      <th>Q6Shh2ii2k</th>\n      <td>-0.296543</td>\n      <td>-0.981078</td>\n      <td>-0.867044</td>\n      <td>-0.867188</td>\n    </tr>\n    <tr>\n      <th>KBHMdAEUjM</th>\n      <td>0.687269</td>\n      <td>0.427602</td>\n      <td>-1.111547</td>\n      <td>0.494247</td>\n    </tr>\n    <tr>\n      <th>mlGXR0WYIc</th>\n      <td>-0.418315</td>\n      <td>-0.053466</td>\n      <td>-0.591328</td>\n      <td>0.370162</td>\n    </tr>\n  </tbody>\n</table>\n</div>"
     },
     "metadata": {}
    }
   ],
   "source": [
    "pdinfo(df)"
   ]
  },
  {
   "cell_type": "code",
   "execution_count": 7,
   "metadata": {},
   "outputs": [
    {
     "output_type": "display_data",
     "data": {
      "text/plain": "<IPython.core.display.HTML object>",
      "text/html": "<div>\n<style scoped>\n    .dataframe tbody tr th:only-of-type {\n        vertical-align: middle;\n    }\n\n    .dataframe tbody tr th {\n        vertical-align: top;\n    }\n\n    .dataframe thead th {\n        text-align: right;\n    }\n</style>\n<table border=\"1\" class=\"dataframe\" id=\"table\">\n  <thead>\n    <tr style=\"text-align: right;\">\n      <th></th>\n      <th>A</th>\n      <th>B</th>\n      <th>C</th>\n      <th>D</th>\n    </tr>\n  </thead>\n  <tbody>\n    <tr>\n      <th>cRz78DZt9G</th>\n      <td>0.700254</td>\n      <td>0.234203</td>\n      <td>-0.010475</td>\n      <td>0.572901</td>\n    </tr>\n    <tr>\n      <th>PoY00fKz2W</th>\n      <td>-0.637172</td>\n      <td>-0.419172</td>\n      <td>-0.565414</td>\n      <td>-0.608418</td>\n    </tr>\n    <tr>\n      <th>O6JK4KtkC9</th>\n      <td>0.347287</td>\n      <td>0.071929</td>\n      <td>-1.334973</td>\n      <td>-0.015654</td>\n    </tr>\n    <tr>\n      <th>02FHvyCC2t</th>\n      <td>-0.205411</td>\n      <td>-0.119238</td>\n      <td>-1.664420</td>\n      <td>0.891674</td>\n    </tr>\n    <tr>\n      <th>WlWxc7OEbp</th>\n      <td>0.759118</td>\n      <td>0.102633</td>\n      <td>-0.049516</td>\n      <td>-0.134991</td>\n    </tr>\n    <tr>\n      <th>xrykSUGuP7</th>\n      <td>1.393191</td>\n      <td>-1.134895</td>\n      <td>-0.141500</td>\n      <td>1.377718</td>\n    </tr>\n    <tr>\n      <th>3743A8Vhsr</th>\n      <td>-0.285207</td>\n      <td>-0.167048</td>\n      <td>-0.303716</td>\n      <td>-0.000139</td>\n    </tr>\n    <tr>\n      <th>xbYVLx37O8</th>\n      <td>1.184318</td>\n      <td>0.179380</td>\n      <td>-0.987556</td>\n      <td>0.784551</td>\n    </tr>\n    <tr>\n      <th>rUFAgLFm8u</th>\n      <td>0.707699</td>\n      <td>0.085668</td>\n      <td>-2.012444</td>\n      <td>-0.397326</td>\n    </tr>\n    <tr>\n      <th>SYkmdkrRND</th>\n      <td>0.298348</td>\n      <td>-0.468751</td>\n      <td>-0.314174</td>\n      <td>-1.793779</td>\n    </tr>\n    <tr>\n      <th>xHyEQQBfGw</th>\n      <td>0.949268</td>\n      <td>-0.701480</td>\n      <td>0.663520</td>\n      <td>0.707548</td>\n    </tr>\n    <tr>\n      <th>8eAUCNyMC3</th>\n      <td>1.561141</td>\n      <td>0.884683</td>\n      <td>-0.106551</td>\n      <td>-1.816316</td>\n    </tr>\n    <tr>\n      <th>4hzByjF8W7</th>\n      <td>0.864482</td>\n      <td>0.653597</td>\n      <td>-0.035555</td>\n      <td>0.680668</td>\n    </tr>\n    <tr>\n      <th>kMNY9JJdtv</th>\n      <td>1.248894</td>\n      <td>0.364659</td>\n      <td>1.001731</td>\n      <td>1.537395</td>\n    </tr>\n    <tr>\n      <th>ksBr3fCANW</th>\n      <td>-0.446246</td>\n      <td>0.067959</td>\n      <td>1.266820</td>\n      <td>-0.414851</td>\n    </tr>\n    <tr>\n      <th>4AWoW617dp</th>\n      <td>0.558034</td>\n      <td>-0.278884</td>\n      <td>0.275688</td>\n      <td>-0.379952</td>\n    </tr>\n    <tr>\n      <th>PxsJJVnW8R</th>\n      <td>1.796499</td>\n      <td>0.502122</td>\n      <td>-0.749807</td>\n      <td>0.292431</td>\n    </tr>\n    <tr>\n      <th>XMnHp0ijZV</th>\n      <td>0.851873</td>\n      <td>0.484115</td>\n      <td>-0.498186</td>\n      <td>-0.198093</td>\n    </tr>\n    <tr>\n      <th>tpBKdDUlOb</th>\n      <td>1.472786</td>\n      <td>0.217829</td>\n      <td>2.053169</td>\n      <td>-1.571045</td>\n    </tr>\n    <tr>\n      <th>18NMP7b1p3</th>\n      <td>0.677849</td>\n      <td>-1.686291</td>\n      <td>0.453497</td>\n      <td>0.036778</td>\n    </tr>\n    <tr>\n      <th>NIYgiyMjH5</th>\n      <td>-0.335731</td>\n      <td>0.994487</td>\n      <td>-0.434962</td>\n      <td>1.226906</td>\n    </tr>\n    <tr>\n      <th>ahXv4baXMX</th>\n      <td>-0.242726</td>\n      <td>0.110268</td>\n      <td>2.043709</td>\n      <td>0.344045</td>\n    </tr>\n    <tr>\n      <th>mo2l7cMIy9</th>\n      <td>0.239135</td>\n      <td>0.277924</td>\n      <td>-2.090216</td>\n      <td>-1.314794</td>\n    </tr>\n    <tr>\n      <th>K3XV0NykMV</th>\n      <td>1.221020</td>\n      <td>-0.936753</td>\n      <td>0.611056</td>\n      <td>0.532351</td>\n    </tr>\n    <tr>\n      <th>5oqdthNGQN</th>\n      <td>-0.725448</td>\n      <td>-0.152357</td>\n      <td>-0.799398</td>\n      <td>0.667229</td>\n    </tr>\n    <tr>\n      <th>qtheke0b8u</th>\n      <td>-1.126257</td>\n      <td>-0.064981</td>\n      <td>0.872054</td>\n      <td>-0.125447</td>\n    </tr>\n    <tr>\n      <th>6sUaRL3Ete</th>\n      <td>-1.553730</td>\n      <td>1.046694</td>\n      <td>0.886025</td>\n      <td>-1.879283</td>\n    </tr>\n    <tr>\n      <th>Q6Shh2ii2k</th>\n      <td>-0.296543</td>\n      <td>-0.981078</td>\n      <td>-0.867044</td>\n      <td>-0.867188</td>\n    </tr>\n    <tr>\n      <th>KBHMdAEUjM</th>\n      <td>0.687269</td>\n      <td>0.427602</td>\n      <td>-1.111547</td>\n      <td>0.494247</td>\n    </tr>\n    <tr>\n      <th>mlGXR0WYIc</th>\n      <td>-0.418315</td>\n      <td>-0.053466</td>\n      <td>-0.591328</td>\n      <td>0.370162</td>\n    </tr>\n  </tbody>\n</table>\n</div>"
     },
     "metadata": {}
    }
   ],
   "source": [
    "pdhtml(df)"
   ]
  },
  {
   "cell_type": "code",
   "execution_count": null,
   "metadata": {},
   "outputs": [],
   "source": []
  }
 ],
 "metadata": {
  "language_info": {
   "codemirror_mode": {
    "name": "ipython",
    "version": 3
   },
   "file_extension": ".py",
   "mimetype": "text/x-python",
   "name": "python",
   "nbconvert_exporter": "python",
   "pygments_lexer": "ipython3",
   "version": "3.7.7-final"
  },
  "orig_nbformat": 2,
  "kernelspec": {
   "name": "python37764bitbasecondaf93a8012ad50407f8a593d536c8c312f",
   "display_name": "Python 3.7.7 64-bit ('base': conda)"
  }
 },
 "nbformat": 4,
 "nbformat_minor": 2
}